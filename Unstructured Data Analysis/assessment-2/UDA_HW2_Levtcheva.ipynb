{
 "cells": [
  {
   "cell_type": "markdown",
   "metadata": {},
   "source": [
    "# Problem 2"
   ]
  },
  {
   "cell_type": "markdown",
   "metadata": {},
   "source": [
    "## Part 2"
   ]
  },
  {
   "cell_type": "code",
   "execution_count": 1,
   "metadata": {},
   "outputs": [],
   "source": [
    "import numpy as np\n",
    "from scipy.sparse import csgraph\n",
    "from scipy.sparse.linalg import eigsh\n",
    "from sklearn.neighbors import kneighbors_graph\n",
    "\n",
    "\n",
    "def laplacian_eigenmap_reduction(X: np.ndarray, d: int, n_neighbors: int) -> np.ndarray:\n",
    "    \"\"\"Dimensionality reduction using Laplacian Eigenmap.\n",
    "\n",
    "    Args:\n",
    "        X (np.ndarray): High-dimensional data, shape (N, D).\n",
    "        d (int): Target dimensionality (d << D).\n",
    "        n_neighbors (int, optional): Number of neighbors for k-NN graph.\n",
    "\n",
    "    Returns:\n",
    "        np.ndarray: Reduced data, shape (N, d).\n",
    "    \"\"\"\n",
    "    # constructing weighted graph using k-NN\n",
    "    W = kneighbors_graph(X, n_neighbors, mode='distance', include_self=False)\n",
    "    W = 0.5 * (W + W.T)  # ensure the matrix is symmetric\n",
    "\n",
    "    # # computing the Laplacian matrix\n",
    "    L = csgraph.laplacian(W, normed=False)\n",
    "\n",
    "    # eigenvalue decomposition, selecting the first d non-zero eigenvectors\n",
    "    _, eigenvectors = eigsh(L, k=d + 1, which='SM')\n",
    "\n",
    "    # skipping the first eigenvector corresponding to 0 and using the next d eigenvectors\n",
    "    return eigenvectors[:, 1:d + 1]"
   ]
  },
  {
   "cell_type": "markdown",
   "metadata": {},
   "source": [
    "# Problem 3"
   ]
  },
  {
   "cell_type": "markdown",
   "metadata": {},
   "source": [
    "## Part 2"
   ]
  },
  {
   "cell_type": "code",
   "execution_count": 2,
   "metadata": {},
   "outputs": [],
   "source": [
    "import networkx as nx\n",
    "from networkx.algorithms import community as nx_community"
   ]
  },
  {
   "cell_type": "code",
   "execution_count": 3,
   "metadata": {},
   "outputs": [],
   "source": [
    "# load the edgelist and create an undirected graph\n",
    "file_path = '/Users/ljoana/Downloads/email-Eu-core.txt'\n",
    "G = nx.read_edgelist(file_path, create_using=nx.Graph())"
   ]
  },
  {
   "cell_type": "code",
   "execution_count": 4,
   "metadata": {},
   "outputs": [
    {
     "data": {
      "text/plain": [
       "False"
      ]
     },
     "execution_count": 4,
     "metadata": {},
     "output_type": "execute_result"
    }
   ],
   "source": [
    "G.is_directed()"
   ]
  },
  {
   "cell_type": "code",
   "execution_count": 5,
   "metadata": {},
   "outputs": [],
   "source": [
    "# load the edgelist and create an undirected graph\n",
    "file_path = '/Users/ljoana/Downloads/email-Eu-core.txt'\n",
    "G = nx.read_edgelist(file_path, create_using=nx.Graph())\n",
    "\n",
    "# load the true labels and convert them to a list of sets of nodes\n",
    "true_labels_path = '/Users/ljoana/Downloads/email-Eu-core-department-labels.txt'\n",
    "true_labels = {}\n",
    "with open(true_labels_path, 'r') as file:\n",
    "    for line in file:\n",
    "        node, label = line.strip().split()\n",
    "        true_labels[node] = label\n",
    "\n",
    "true_communities = {}\n",
    "for node, comm_id in true_labels.items():\n",
    "    true_communities.setdefault(comm_id, set()).add(node)\n",
    "true_communities = list(true_communities.values())"
   ]
  },
  {
   "cell_type": "code",
   "execution_count": 6,
   "metadata": {},
   "outputs": [
    {
     "name": "stdout",
     "output_type": "stream",
     "text": [
      "Modularity of true communities: 0.3137611028706121\n"
     ]
    }
   ],
   "source": [
    "# compute modularity for true communities\n",
    "true_modularity = nx_community.modularity(G, true_communities)\n",
    "print(\"Modularity of true communities:\", true_modularity)"
   ]
  },
  {
   "cell_type": "markdown",
   "metadata": {},
   "source": [
    "### Label propagation approach"
   ]
  },
  {
   "cell_type": "code",
   "execution_count": 7,
   "metadata": {},
   "outputs": [
    {
     "name": "stdout",
     "output_type": "stream",
     "text": [
      "Modularity of detected communities: 0.08900284744977784\n"
     ]
    }
   ],
   "source": [
    "# apply label propagation to detect communities\n",
    "communities_label_propagation = nx_community.label_propagation_communities(G)\n",
    "label_propagation_communities = [set(c) for c in communities_label_propagation]\n",
    "\n",
    "# calculate modularity for detected communities\n",
    "detected_modularity = nx_community.modularity(G, label_propagation_communities)\n",
    "print(\"Modularity of detected communities:\", detected_modularity)"
   ]
  },
  {
   "cell_type": "markdown",
   "metadata": {},
   "source": [
    "### Girvan-Newman approach"
   ]
  },
  {
   "cell_type": "code",
   "execution_count": 8,
   "metadata": {},
   "outputs": [
    {
     "name": "stdout",
     "output_type": "stream",
     "text": [
      "Iteration 1: Modularity = 0.0031089277455570302, Number of communities = 21\n",
      "Iteration 2: Modularity = 0.003108818461984198, Number of communities = 22\n",
      "Iteration 3: Modularity = 0.0031087073868773336, Number of communities = 23\n",
      "Iteration 4: Modularity = 0.003108594520236437, Number of communities = 24\n",
      "Iteration 5: Modularity = 0.003108479862061619, Number of communities = 25\n",
      "Iteration 6: Modularity = 0.00310836341235288, Number of communities = 26\n",
      "Iteration 7: Modularity = 0.0031082451711101087, Number of communities = 27\n",
      "Iteration 8: Modularity = 0.003108125138333305, Number of communities = 28\n",
      "Iteration 9: Modularity = 0.0031080033140225803, Number of communities = 29\n",
      "Iteration 10: Modularity = 0.0032273391840628974, Number of communities = 30\n",
      "Iteration 11: Modularity = 0.0032272101936162657, Number of communities = 31\n",
      "Iteration 12: Modularity = 0.003227079411635602, Number of communities = 32\n",
      "Iteration 13: Modularity = 0.0032269468381209056, Number of communities = 33\n",
      "Iteration 14: Modularity = 0.0033462504605496417, Number of communities = 34\n",
      "Iteration 15: Modularity = 0.0033461107208990386, Number of communities = 35\n",
      "Iteration 16: Modularity = 0.0033459691897145144, Number of communities = 36\n",
      "Iteration 17: Modularity = 0.003465245939133433, Number of communities = 37\n",
      "Iteration 18: Modularity = 0.003465097241813002, Number of communities = 38\n",
      "Iteration 19: Modularity = 0.0034649467529585384, Number of communities = 39\n",
      "Iteration 20: Modularity = 0.003464794472570265, Number of communities = 40\n",
      "Iteration 21: Modularity = 0.0035840389743774913, Number of communities = 41\n",
      "Iteration 22: Modularity = 0.003583879527853089, Number of communities = 42\n",
      "Iteration 23: Modularity = 0.003583718289794765, Number of communities = 43\n",
      "Iteration 24: Modularity = 0.00358355526020252, Number of communities = 44\n",
      "Iteration 25: Modularity = 0.003583390439076132, Number of communities = 45\n",
      "Iteration 26: Modularity = 0.0035832238264159335, Number of communities = 46\n",
      "Iteration 27: Modularity = 0.003583055422221592, Number of communities = 47\n",
      "Iteration 28: Modularity = 0.0037022515526113913, Number of communities = 48\n",
      "Iteration 29: Modularity = 0.0037020759822812537, Number of communities = 49\n",
      "Iteration 30: Modularity = 0.003701898620417084, Number of communities = 50\n"
     ]
    }
   ],
   "source": [
    "# apply the Girvan-Newman algorithm\n",
    "communities_generator = nx_community.girvan_newman(G)\n",
    "\n",
    "max_iterations = 30\n",
    "iteration = 0\n",
    "modularities = []\n",
    "for communities in communities_generator:\n",
    "    iteration += 1\n",
    "    current_communities = [set(c) for c in communities]\n",
    "    current_modularity = nx_community.modularity(G, current_communities)\n",
    "    modularities.append(current_modularity)\n",
    "    print(f\"Iteration {iteration}: Modularity = {current_modularity}, Number of communities = {len(current_communities)}\")\n",
    "\n",
    "    # stop after processing the set max_iterations\n",
    "    if iteration >= max_iterations:\n",
    "        break"
   ]
  },
  {
   "cell_type": "code",
   "execution_count": 14,
   "metadata": {},
   "outputs": [
    {
     "data": {
      "image/png": "[encoded data removed]",
      "text/plain": [
       "<Figure size 640x480 with 1 Axes>"
      ]
     },
     "metadata": {},
     "output_type": "display_data"
    }
   ],
   "source": [
    "import matplotlib.pyplot as plt\n",
    "\n",
    "\n",
    "x = [it for it in range(len(modularities))]\n",
    "plt.plot(x, modularities)\n",
    "plt.title(\"Girvan-Newman Modularities of Detected Communities\")\n",
    "plt.xlabel(\"Iteration\")\n",
    "plt.ylabel(\"Modularity\")\n",
    "plt.show()"
   ]
  },
  {
   "cell_type": "code",
   "execution_count": null,
   "metadata": {},
   "outputs": [],
   "source": []
  }
 ],
 "metadata": {
  "kernelspec": {
   "display_name": "latest-vdk-39",
   "language": "python",
   "name": "python3"
  },
  "language_info": {
   "codemirror_mode": {
    "name": "ipython",
    "version": 3
   },
   "file_extension": ".py",
   "mimetype": "text/x-python",
   "name": "python",
   "nbconvert_exporter": "python",
   "pygments_lexer": "ipython3",
   "version": "3.9.17"
  }
 },
 "nbformat": 4,
 "nbformat_minor": 2
}
