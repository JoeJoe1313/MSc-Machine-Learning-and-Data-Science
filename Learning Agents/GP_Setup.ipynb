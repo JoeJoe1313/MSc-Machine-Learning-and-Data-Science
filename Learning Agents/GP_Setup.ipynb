{
 "cells": [
  {
   "cell_type": "markdown",
   "id": "12545561",
   "metadata": {},
   "source": [
    "# Gaussian Process Set Up\n",
    "We now construct a way to initialize an environment that we can use for the GPUCB algorithm in the following notebook. In particular, we want to define a function $f$ between two points xmin and xmax (this region will also be our action space) and we want to define the variance $\\sigma^2$ of the noise on the observation of $f(x)$ when playing action $x$. Namely, when playing action $x\\in [x_{\\text{min}},x_{\\text{max}}]$, we observe $f(x)+\\epsilon$ where $\\epsilon \\sim N(0,\\sigma^2)$. We do so by constructiong the following class, while also making sure that we store the history of actions $x$ and observations $y$."
   ]
  },
  {
   "cell_type": "code",
   "execution_count": 1,
   "id": "e844b5b5",
   "metadata": {},
   "outputs": [],
   "source": [
    "# add necessary modules\n",
    "import numpy as np\n",
    "from scipy.stats import norm as normal\n",
    "from scipy.optimize import fminbound\n",
    "from scipy.optimize import minimize"
   ]
  },
  {
   "cell_type": "code",
   "execution_count": 2,
   "id": "c1477b73",
   "metadata": {},
   "outputs": [],
   "source": [
    "class GPEnv:\n",
    "    def __init__(self, xmin, xmax, f, noisevar, dim=1):\n",
    "        self.var = noisevar\n",
    "        self.xmin = xmin\n",
    "        self.xmax = xmax\n",
    "        self.f = f\n",
    "        self.xhist = np.empty(0)\n",
    "        self.yhist = np.empty(0)\n",
    "        if dim ==1:\n",
    "            self.argmax = fminbound(lambda x: -self.f(x),xmin,xmax)\n",
    "        if dim != 1:\n",
    "            self.dim = dim\n",
    "            self.argmax = minimize(lambda x: -f(x),np.repeat((xmin+xmax)/2,dim), bounds=(((xmin,xmax),)*dim)).x\n",
    "        self.maxrew = self.f(self.argmax)\n",
    "        \n",
    "    # define function to get expected reward for given x\n",
    "    def meanrew(self,x):\n",
    "        meanrew = self.f(x)\n",
    "        return meanrew\n",
    "    \n",
    "    # define function to sample a reward of the arm with a context\n",
    "    def sample(self, x):\n",
    "        y = self.meanrew(x) + normal(0.0, np.sqrt(self.var)).rvs()\n",
    "        return x, y\n",
    "    \n",
    "    # define function to update arm statistics\n",
    "    def update(self,x,y):\n",
    "        self.xhist = np.append(self.xhist,x)\n",
    "        self.yhist = np.append(self.yhist,y)\n",
    "    \n",
    "    # define function to play arm\n",
    "    def play(self,x):\n",
    "        x,y = self.sample(x)\n",
    "        self.update(x,y)\n",
    "        return y\n",
    "\n",
    "    # define function to reset counts etc every replication\n",
    "    def reset(self):\n",
    "        self.xhist = np.empty(0)\n",
    "        self.yhist = np.empty(0)"
   ]
  }
 ],
 "metadata": {
  "kernelspec": {
   "display_name": "Python 3 (ipykernel)",
   "language": "python",
   "name": "python3"
  },
  "language_info": {
   "codemirror_mode": {
    "name": "ipython",
    "version": 3
   },
   "file_extension": ".py",
   "mimetype": "text/x-python",
   "name": "python",
   "nbconvert_exporter": "python",
   "pygments_lexer": "ipython3",
   "version": "3.10.9"
  },
  "toc": {
   "base_numbering": 1,
   "nav_menu": {},
   "number_sections": true,
   "sideBar": true,
   "skip_h1_title": false,
   "title_cell": "Table of Contents",
   "title_sidebar": "Contents",
   "toc_cell": false,
   "toc_position": {},
   "toc_section_display": true,
   "toc_window_display": false
  }
 },
 "nbformat": 4,
 "nbformat_minor": 5
}
