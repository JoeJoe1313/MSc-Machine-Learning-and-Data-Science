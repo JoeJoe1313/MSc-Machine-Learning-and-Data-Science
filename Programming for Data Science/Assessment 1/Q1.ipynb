{
 "cells": [
  {
   "cell_type": "code",
   "execution_count": 1,
   "metadata": {},
   "outputs": [],
   "source": [
    "# Joana Tchavdarova Levtcheva\n",
    "# CID 01252821"
   ]
  },
  {
   "cell_type": "markdown",
   "metadata": {},
   "source": [
    "# Question 1 - Python (25 marks)\n",
    "\n",
    "\n",
    "For this question you are provided with a Jupyter Notebook (also known as an IPython notebook) containing the question named `Q1.ipynb`. At the end of the notebook, there are empty cells corresponding to the subparts of the question. You are required to edit these cells to answer each subpart of the question. For example, please answer only Part C(i) in the cell below the heading Part C(i), etc.\n",
    "\n",
    "**Note:**\n",
    "\n",
    "  - Do not edit code cells that start and end with the comment `# Do not alter this cell`.\n",
    "\n",
    "  - The markers will try, where possible, not to penalise answers to parts for errors in previous parts. For example, if you cannot do Part C(i), leave the corresponding cell blank and do Part C(ii) assuming Part C(i) is working.\n",
    "\n",
    "\n",
    "## Submission\n",
    "\n",
    "Modify the provided `.ipynb` file, filling in the appropriate cells, and create an `.html` export of the `.ipynb` file as a fallback for marking if the `ipynb` gets corrupted. See [https://mljar.com/blog/jupyter-notebook-html/](https://mljar.com/blog/jupyter-notebook-html/) \n",
    "\n",
    "Zip these files together with the `.R` file from Question 2, and submit via the Coursera link provided above.\n",
    "\n",
    "\n",
    "## The task\n",
    "\n",
    "You have been given a corrupted string, in the assignment script's variable `book`, and asked to decode it, then retrieve some properties and statistics about the resulting  paragraph, taken from an English translation of the novel *The Count of Monte Cristo* by Alexandre Dumas.\n",
    "\n",
    "Some functions/techniques that may be useful in this assessment are:\n",
    "\n",
    "- `str.replace()` `str.find()` `str.split()`  `str.lower()` `str.upper()` `str.join()`\n",
    "\n",
    "- `list.append()` `list.extend()` `dict.items()`\n",
    "\n",
    "- `max()` `len()` `print()`\n",
    "\n",
    "- f-string formatting\n",
    "\n",
    "\n",
    "If any of these is unfamiliar, please refer to the readings in the reference books or search for the documentation online. Don't worry if you use only some or none of these functions, as in all programming there is many ways to approach the same problem, and you may be able to solve the question without using all of these functions.\n",
    "\n",
    "## Part A (2 marks)\n",
    "\n",
    "Three of the letters in the variable `book` have been swapped for punctuation: each `'h'` has been replaced with `'{'`, each `'a'` has been replaced with `'@'` and each `'o'` has been replaced with `'['`. \n",
    "\n",
    "Write a series of python statements that replace each of the symbols with the correct original letter and store the result in a new variable named `clean_book`.\n",
    "\n",
    "\n",
    "## Part B (1 mark)\n",
    "\n",
    "Find the index in the string (i.e. the starting letter position beginning the count from 0) of the first occurrence of the word `'between'`.\n",
    "\n",
    "## Part C \n",
    "\n",
    "### Part C(i) (2 marks)\n",
    "Remove all punctuation from  `clean_book`, namely none of the following characters should remain: `!?.,;\"'()`\n",
    " \n",
    "Store this in a new variable named `clean_book_no_punc`. \n",
    "\n",
    "### Part C(ii) (2 marks)\n",
    "Convert `clean_book_no_punc` into a list, named `word_list`, where each entry is a word from `clean_book_no_punc`. \n",
    "A word is defined as being whitespace separated. e.g. `'quick brown fox'` should map to `['quick', 'brown', 'fox'] `.\n",
    "\n",
    "### Part C(iii) (3 marks)\n",
    "Find the longest word - defined by number of characters - in `word_list`. There is no need to worry about the edge case of multiple words with the same longest length, any word with the longest length will be acceptable.\n",
    "\n",
    "**Hint:** If you don't know where to start, use a `for` loop to iterate through the list and think if you need to define any new variables for keeping track of maximums.\n",
    "\n",
    "\n",
    "## Part D\n",
    "### Part D(i) (3 marks)\n",
    "Using `word_list` from Part (cii) construct a dictionary, `word_freqs`, where each key is the length of a word and each value is the count of words of that length in the list. \n",
    "e.g. `['quick', 'brown', 'fox']` should map to `{3: 1, 4:2}`.\n",
    "\n",
    "### Part D(ii) (3 marks)\n",
    "Find the most common word length in `word_list`.\n",
    "\n",
    "**Hint:** This will be the key corresponding to the largest value of `word_freqs`.\n",
    "\n",
    "## Part E\n",
    "### Part E(i) (4 marks)\n",
    "Using `clean_book_no_punc` construct a dictionary, `letter_freqs`, where each key is a letter and each value is the frequency of that letter in the string. \n",
    "Uppercase and lowercase letters must both be included in the letter count. The lowercase letter should be used as the key.\n",
    "\n",
    "For example `'The start'` would have an entry `{'t':3}` in the `letter_freqs` dictionary. This should not include special characters (e.g. spaces or newlines).\n",
    "\n",
    "### Part E(ii) (4 marks)\n",
    "Write a function `print_table(table_dict: dict, key_title: str, value_title: str)` that prints `letter_freqs` keys and values in the following form.\n",
    "\n",
    "This example is called as `print_table({'a':3, 'b':2}, 'Letter', 'Frequency')`.\n",
    "\n",
    "```{latex}\n",
    "Letter & Frequency \\\\ \\hline\n",
    "a & 3 \\\\\n",
    "b & 2 \\\\\n",
    "```\n",
    "\n",
    "Then call `print_table` on `letter_freqs` with column titles as in the example.\n",
    "\n",
    "## Code clarity (1 mark)\n",
    "\n",
    "There is a famous saying among software developers that code is read more \n",
    "often than it is written. One mark will be awarded (or not awarded)\n",
    "based on the clarity of the code and appropriate use of comments.\n"
   ]
  },
  {
   "cell_type": "code",
   "execution_count": 2,
   "metadata": {},
   "outputs": [],
   "source": [
    "# Do not alter this cell\n",
    "book = \"\"\"\n",
    "On t{e 24t{ [f Febru@ry, 1815, t{e l[[k-[ut @t N[tre-D@me de l@ G@rde\n",
    "sign@lled t{e t{ree-m@ster, t{e _P{@r@[n_ fr[m Smyrn@, Trieste, @nd\n",
    "N@ples.\n",
    "\n",
    "As usu@l, @ pil[t put [ff immedi@tely, @nd r[unding t{e C{@te@u d'If,\n",
    "g[t [n b[@rd t{e vessel between C@pe M[rgi[u @nd Ri[n isl@nd.\n",
    "\n",
    "Immedi@tely, @nd @cc[rding t[ cust[m, t{e r@mp@rts [f F[rt S@int-Je@n\n",
    "were c[vered wit{ spect@t[rs. It is @lw@ys @n event @t M@rseilles f[r @\n",
    "s{ip t[ c[me int[ p[rt, especi@lly w{en t{is s{ip, like t{e _P{@r@[n_,\n",
    "{@s been built, rigged, @nd l@den @t t{e [ld P{[cee d[cks, @nd bel[ngs\n",
    "t[ @n [wner [f t{e city.\n",
    "\n",
    "T{e s{ip drew [n @nd {@d s@fely p@ssed t{e str@it, w{ic{ s[me v[lc@nic\n",
    "s{[ck {@s m@de between t{e C@l@s@reigne @nd J@r[s isl@nds; {@d d[ubled\n",
    "P[megue, @nd @ppr[@c{ed t{e {@rb[r under t[ps@ils, jib, @nd sp@nker,\n",
    "but s[ sl[wly @nd sed@tely t{@t t{e idlers, wit{ t{@t instinct w{ic{ is\n",
    "t{e f[rerunner [f evil, @sked [ne @n[t{er w{@t misf[rtune c[uld {@ve\n",
    "{@ppened [n b[@rd. H[wever, t{[se experienced in n@vig@ti[n s@w pl@inly\n",
    "t{@t if @ny @ccident {@d [ccurred, it w@s n[t t[ t{e vessel {erself,\n",
    "...\n",
    "n@rr[w entr@nce [f t{e inner p[rt, w@s @ y[ung m@n, w{[, wit{ @ctivity\n",
    "@nd vigil@nt eye, w@tc{ed every m[ti[n [f t{e s{ip, @nd repe@ted e@c{\n",
    "directi[n [f t{e pil[t.\n",
    "\"\"\"\n",
    "\n",
    "# Do not alter this cell"
   ]
  },
  {
   "cell_type": "markdown",
   "metadata": {},
   "source": [
    "# Q1"
   ]
  },
  {
   "cell_type": "markdown",
   "metadata": {},
   "source": [
    "## Part A"
   ]
  },
  {
   "cell_type": "code",
   "execution_count": 3,
   "metadata": {},
   "outputs": [
    {
     "name": "stdout",
     "output_type": "stream",
     "text": [
      "\n",
      "On the 24th of February, 1815, the look-out at Notre-Dame de la Garde\n",
      "signalled the three-master, the _Pharaon_ from Smyrna, Trieste, and\n",
      "Naples.\n",
      "\n",
      "As usual, a pilot put off immediately, and rounding the Chateau d'If,\n",
      "got on board the vessel between Cape Morgiou and Rion island.\n",
      "\n",
      "Immediately, and according to custom, the ramparts of Fort Saint-Jean\n",
      "were covered with spectators. It is always an event at Marseilles for a\n",
      "ship to come into port, especially when this ship, like the _Pharaon_,\n",
      "has been built, rigged, and laden at the old Phocee docks, and belongs\n",
      "to an owner of the city.\n",
      "\n",
      "The ship drew on and had safely passed the strait, which some volcanic\n",
      "shock has made between the Calasareigne and Jaros islands; had doubled\n",
      "Pomegue, and approached the harbor under topsails, jib, and spanker,\n",
      "but so slowly and sedately that the idlers, with that instinct which is\n",
      "the forerunner of evil, asked one another what misfortune could have\n",
      "happened on board. However, those experienced in navigation saw plainly\n",
      "that if any accident had occurred, it was not to the vessel herself,\n",
      "...\n",
      "narrow entrance of the inner port, was a young man, who, with activity\n",
      "and vigilant eye, watched every motion of the ship, and repeated each\n",
      "direction of the pilot.\n",
      "\n"
     ]
    }
   ],
   "source": [
    "# Write code here\n",
    "clean_book = book.replace(\"{\", \"h\").replace(\"@\", \"a\").replace(\"[\", \"o\")\n",
    "print(clean_book)"
   ]
  },
  {
   "cell_type": "markdown",
   "metadata": {},
   "source": [
    "## Part B"
   ]
  },
  {
   "cell_type": "code",
   "execution_count": 4,
   "metadata": {},
   "outputs": [
    {
     "name": "stdout",
     "output_type": "stream",
     "text": [
      "Approach 1 result: 242\n",
      "Approach 2 result: 242\n"
     ]
    }
   ],
   "source": [
    "# Approach 1\n",
    "index_of_the_first_occurance_of_between = clean_book.find(\"between\")\n",
    "print(f\"Approach 1 result: {index_of_the_first_occurance_of_between}\")\n",
    "\n",
    "# Approach 2\n",
    "import re\n",
    "\n",
    "index_of_the_first_occurance_of_between = re.search(r'\\b(between)\\b', clean_book)\n",
    "print(f\"Approach 2 result: {index_of_the_first_occurance_of_between.start()}\")"
   ]
  },
  {
   "cell_type": "markdown",
   "metadata": {},
   "source": [
    "## Part C(i)"
   ]
  },
  {
   "cell_type": "code",
   "execution_count": 5,
   "metadata": {},
   "outputs": [
    {
     "name": "stdout",
     "output_type": "stream",
     "text": [
      "Approach 1 result: \n",
      "On the 24th of February 1815 the look-out at Notre-Dame de la Garde\n",
      "signalled the three-master the _Pharaon_ from Smyrna Trieste and\n",
      "Naples\n",
      "\n",
      "As usual a pilot put off immediately and rounding the Chateau dIf\n",
      "got on board the vessel between Cape Morgiou and Rion island\n",
      "\n",
      "Immediately and according to custom the ramparts of Fort Saint-Jean\n",
      "were covered with spectators It is always an event at Marseilles for a\n",
      "ship to come into port especially when this ship like the _Pharaon_\n",
      "has been built rigged and laden at the old Phocee docks and belongs\n",
      "to an owner of the city\n",
      "\n",
      "The ship drew on and had safely passed the strait which some volcanic\n",
      "shock has made between the Calasareigne and Jaros islands had doubled\n",
      "Pomegue and approached the harbor under topsails jib and spanker\n",
      "but so slowly and sedately that the idlers with that instinct which is\n",
      "the forerunner of evil asked one another what misfortune could have\n",
      "happened on board However those experienced in navigation saw plainly\n",
      "that if any accident had occurred it was not to the vessel herself\n",
      "\n",
      "narrow entrance of the inner port was a young man who with activity\n",
      "and vigilant eye watched every motion of the ship and repeated each\n",
      "direction of the pilot\n",
      "\n",
      "Approach 2 result: \n",
      "On the 24th of February 1815 the look-out at Notre-Dame de la Garde\n",
      "signalled the three-master the _Pharaon_ from Smyrna Trieste and\n",
      "Naples\n",
      "\n",
      "As usual a pilot put off immediately and rounding the Chateau dIf\n",
      "got on board the vessel between Cape Morgiou and Rion island\n",
      "\n",
      "Immediately and according to custom the ramparts of Fort Saint-Jean\n",
      "were covered with spectators It is always an event at Marseilles for a\n",
      "ship to come into port especially when this ship like the _Pharaon_\n",
      "has been built rigged and laden at the old Phocee docks and belongs\n",
      "to an owner of the city\n",
      "\n",
      "The ship drew on and had safely passed the strait which some volcanic\n",
      "shock has made between the Calasareigne and Jaros islands had doubled\n",
      "Pomegue and approached the harbor under topsails jib and spanker\n",
      "but so slowly and sedately that the idlers with that instinct which is\n",
      "the forerunner of evil asked one another what misfortune could have\n",
      "happened on board However those experienced in navigation saw plainly\n",
      "that if any accident had occurred it was not to the vessel herself\n",
      "\n",
      "narrow entrance of the inner port was a young man who with activity\n",
      "and vigilant eye watched every motion of the ship and repeated each\n",
      "direction of the pilot\n",
      "\n"
     ]
    }
   ],
   "source": [
    "# Approach 1\n",
    "punctuation_to_remove = \"!?.,;\\\"'()\"\n",
    "clean_book_no_punc = clean_book\n",
    "for punc in punctuation_to_remove:\n",
    "    clean_book_no_punc = clean_book_no_punc.replace(punc, \"\")\n",
    "\n",
    "print(f\"Approach 1 result: {clean_book_no_punc}\")\n",
    "\n",
    "# Approach 2\n",
    "clean_book_no_punc = clean_book.translate(str.maketrans('', '', punctuation_to_remove))\n",
    "\n",
    "print(f\"Approach 2 result: {clean_book_no_punc}\")\n"
   ]
  },
  {
   "cell_type": "markdown",
   "metadata": {},
   "source": [
    "## Part C(ii)"
   ]
  },
  {
   "cell_type": "code",
   "execution_count": 6,
   "metadata": {},
   "outputs": [
    {
     "name": "stdout",
     "output_type": "stream",
     "text": [
      "['On', 'the', '24th', 'of', 'February', '1815', 'the', 'look-out', 'at', 'Notre-Dame', 'de', 'la', 'Garde', 'signalled', 'the', 'three-master', 'the', '_Pharaon_', 'from', 'Smyrna', 'Trieste', 'and', 'Naples', 'As', 'usual', 'a', 'pilot', 'put', 'off', 'immediately', 'and', 'rounding', 'the', 'Chateau', 'dIf', 'got', 'on', 'board', 'the', 'vessel', 'between', 'Cape', 'Morgiou', 'and', 'Rion', 'island', 'Immediately', 'and', 'according', 'to', 'custom', 'the', 'ramparts', 'of', 'Fort', 'Saint-Jean', 'were', 'covered', 'with', 'spectators', 'It', 'is', 'always', 'an', 'event', 'at', 'Marseilles', 'for', 'a', 'ship', 'to', 'come', 'into', 'port', 'especially', 'when', 'this', 'ship', 'like', 'the', '_Pharaon_', 'has', 'been', 'built', 'rigged', 'and', 'laden', 'at', 'the', 'old', 'Phocee', 'docks', 'and', 'belongs', 'to', 'an', 'owner', 'of', 'the', 'city', 'The', 'ship', 'drew', 'on', 'and', 'had', 'safely', 'passed', 'the', 'strait', 'which', 'some', 'volcanic', 'shock', 'has', 'made', 'between', 'the', 'Calasareigne', 'and', 'Jaros', 'islands', 'had', 'doubled', 'Pomegue', 'and', 'approached', 'the', 'harbor', 'under', 'topsails', 'jib', 'and', 'spanker', 'but', 'so', 'slowly', 'and', 'sedately', 'that', 'the', 'idlers', 'with', 'that', 'instinct', 'which', 'is', 'the', 'forerunner', 'of', 'evil', 'asked', 'one', 'another', 'what', 'misfortune', 'could', 'have', 'happened', 'on', 'board', 'However', 'those', 'experienced', 'in', 'navigation', 'saw', 'plainly', 'that', 'if', 'any', 'accident', 'had', 'occurred', 'it', 'was', 'not', 'to', 'the', 'vessel', 'herself', 'narrow', 'entrance', 'of', 'the', 'inner', 'port', 'was', 'a', 'young', 'man', 'who', 'with', 'activity', 'and', 'vigilant', 'eye', 'watched', 'every', 'motion', 'of', 'the', 'ship', 'and', 'repeated', 'each', 'direction', 'of', 'the', 'pilot']\n"
     ]
    }
   ],
   "source": [
    "word_list = clean_book_no_punc.split()\n",
    "print(word_list)"
   ]
  },
  {
   "cell_type": "markdown",
   "metadata": {},
   "source": [
    "## Part C(iii)"
   ]
  },
  {
   "cell_type": "code",
   "execution_count": 7,
   "metadata": {},
   "outputs": [
    {
     "data": {
      "text/plain": [
       "'three-master'"
      ]
     },
     "execution_count": 7,
     "metadata": {},
     "output_type": "execute_result"
    }
   ],
   "source": [
    "max(word_list, key=lambda x: len(x))"
   ]
  },
  {
   "cell_type": "markdown",
   "metadata": {},
   "source": [
    "## Part D(i)"
   ]
  },
  {
   "cell_type": "code",
   "execution_count": 8,
   "metadata": {},
   "outputs": [
    {
     "name": "stdout",
     "output_type": "stream",
     "text": [
      "Approach 1 result: {2: 30, 3: 55, 4: 33, 8: 15, 10: 9, 5: 22, 9: 5, 12: 2, 6: 17, 7: 16, 1: 3, 11: 3}\n",
      "Approach 2 result: {2: 30, 3: 55, 4: 33, 8: 15, 10: 9, 5: 22, 9: 5, 12: 2, 6: 17, 7: 16, 1: 3, 11: 3}\n"
     ]
    }
   ],
   "source": [
    "# Approach 1\n",
    "word_freq = {}\n",
    "for word in word_list:\n",
    "    word_freq[len(word)] = word_freq.get(len(word), 0) + 1\n",
    "print(f\"Approach 1 result: {word_freq}\")\n",
    "\n",
    "# Approach 2\n",
    "from collections import Counter\n",
    "\n",
    "word_freq = {}\n",
    "word_lengths = [len(word) for word in word_list]\n",
    "word_freq = dict(Counter(word_lengths))\n",
    "print(f\"Approach 2 result: {word_freq}\")"
   ]
  },
  {
   "cell_type": "markdown",
   "metadata": {},
   "source": [
    "## Part D(ii)"
   ]
  },
  {
   "cell_type": "code",
   "execution_count": 9,
   "metadata": {},
   "outputs": [
    {
     "name": "stdout",
     "output_type": "stream",
     "text": [
      "Approach 1 result: 3\n",
      "Approach 2 result: 3\n"
     ]
    }
   ],
   "source": [
    "# Approach 1\n",
    "most_common_word_length = max(word_freq, key=word_freq.get)\n",
    "print(f\"Approach 1 result: {most_common_word_length}\")\n",
    "\n",
    "# Approach 2\n",
    "most_common_word_length = Counter(word_lengths).most_common(n=1)[0][0]\n",
    "print(f\"Approach 2 result: {most_common_word_length}\")"
   ]
  },
  {
   "cell_type": "markdown",
   "metadata": {},
   "source": [
    "## Part E(i)"
   ]
  },
  {
   "cell_type": "code",
   "execution_count": 10,
   "metadata": {},
   "outputs": [
    {
     "name": "stdout",
     "output_type": "stream",
     "text": [
      "{'o': 74, 'n': 72, 't': 89, 'h': 60, 'e': 121, 'f': 19, 'b': 12, 'r': 56, 'u': 19, 'a': 99, 'y': 16, 'l': 39, 'k': 6, 'd': 52, 'm': 19, 'g': 14, 's': 57, 'i': 62, 'p': 28, 'c': 31, 'v': 12, 'w': 21, 'j': 3, 'x': 1}\n"
     ]
    }
   ],
   "source": [
    "letter_freqs = {}\n",
    "for character in clean_book_no_punc:\n",
    "    if character.isalpha():\n",
    "        character_lower = character.lower()\n",
    "        letter_freqs[character_lower] = letter_freqs.get(character_lower, 0) + 1\n",
    "print(letter_freqs)\n"
   ]
  },
  {
   "cell_type": "markdown",
   "metadata": {},
   "source": [
    "## Part E(ii)"
   ]
  },
  {
   "cell_type": "code",
   "execution_count": 11,
   "metadata": {},
   "outputs": [
    {
     "name": "stdout",
     "output_type": "stream",
     "text": [
      "Letter & Frequency \\\\ \\hline\n",
      "a & 99 \\\\\n",
      "b & 12 \\\\\n",
      "c & 31 \\\\\n",
      "d & 52 \\\\\n",
      "e & 121 \\\\\n",
      "f & 19 \\\\\n",
      "g & 14 \\\\\n",
      "h & 60 \\\\\n",
      "i & 62 \\\\\n",
      "j & 3 \\\\\n",
      "k & 6 \\\\\n",
      "l & 39 \\\\\n",
      "m & 19 \\\\\n",
      "n & 72 \\\\\n",
      "o & 74 \\\\\n",
      "p & 28 \\\\\n",
      "r & 56 \\\\\n",
      "s & 57 \\\\\n",
      "t & 89 \\\\\n",
      "u & 19 \\\\\n",
      "v & 12 \\\\\n",
      "w & 21 \\\\\n",
      "x & 1 \\\\\n",
      "y & 16 \\\\\n"
     ]
    }
   ],
   "source": [
    "def print_table(table_dict: dict, key_title: str, value_title: str):\n",
    "    print(f\"{key_title} & {value_title} \\\\\\ \\hline\")\n",
    "    for letter in sorted(letter_freqs.keys()):\n",
    "        print(f\"{letter} & {letter_freqs[letter]} \\\\\\\\\")\n",
    "    \n",
    "print_table(table_dict=letter_freqs, key_title=\"Letter\", value_title=\"Frequency\")"
   ]
  },
  {
   "cell_type": "code",
   "execution_count": null,
   "metadata": {},
   "outputs": [],
   "source": []
  }
 ],
 "metadata": {
  "kernelspec": {
   "display_name": "Python 3",
   "language": "python",
   "name": "python3"
  },
  "language_info": {
   "codemirror_mode": {
    "name": "ipython",
    "version": 3
   },
   "file_extension": ".py",
   "mimetype": "text/x-python",
   "name": "python",
   "nbconvert_exporter": "python",
   "pygments_lexer": "ipython3",
   "version": "3.8.5"
  },
  "vscode": {
   "interpreter": {
    "hash": "f0fff94e886f4f6564bda822b020918aa4492cb341360e5b9ca0c10f6501bc9c"
   }
  }
 },
 "nbformat": 4,
 "nbformat_minor": 2
}
