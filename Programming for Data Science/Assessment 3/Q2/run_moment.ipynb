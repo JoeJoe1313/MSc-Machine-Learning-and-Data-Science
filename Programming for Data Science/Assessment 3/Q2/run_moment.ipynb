{
 "cells": [
  {
   "cell_type": "code",
   "execution_count": 1,
   "metadata": {},
   "outputs": [],
   "source": [
    "from copy import copy\n",
    "\n",
    "from moment import Moment"
   ]
  },
  {
   "cell_type": "code",
   "execution_count": 2,
   "metadata": {},
   "outputs": [
    {
     "name": "stdout",
     "output_type": "stream",
     "text": [
      "Moment object:\n",
      "  Size: 2\n",
      "  Mean: 4.0\n",
      "  Variance: 2.0\n"
     ]
    }
   ],
   "source": [
    "# creating a moment object and updating it with two observations\n",
    "m1 = Moment()\n",
    "m1.update(5)\n",
    "m1.update(3)\n",
    "print(m1)"
   ]
  },
  {
   "cell_type": "code",
   "execution_count": 3,
   "metadata": {},
   "outputs": [
    {
     "name": "stdout",
     "output_type": "stream",
     "text": [
      "Moment object:\n",
      "  Size: 3\n",
      "  Mean: 3.0\n",
      "  Variance: 4.0\n",
      "Moment object:\n",
      "  Size: 2\n",
      "  Mean: 4.0\n",
      "  Variance: 2.0\n"
     ]
    }
   ],
   "source": [
    "# creating a deep copy of m1\n",
    "m2 = copy(m1)\n",
    "m1.update(1)\n",
    "print(m1)\n",
    "print(m2)\n",
    "# updating m1 didn't update the m2 deep copy"
   ]
  },
  {
   "cell_type": "code",
   "execution_count": null,
   "metadata": {},
   "outputs": [],
   "source": []
  }
 ],
 "metadata": {
  "kernelspec": {
   "display_name": "Python 3.8.5 64-bit ('vmproject')",
   "language": "python",
   "name": "python3"
  },
  "language_info": {
   "codemirror_mode": {
    "name": "ipython",
    "version": 3
   },
   "file_extension": ".py",
   "mimetype": "text/x-python",
   "name": "python",
   "nbconvert_exporter": "python",
   "pygments_lexer": "ipython3",
   "version": "3.8.5"
  },
  "orig_nbformat": 4,
  "vscode": {
   "interpreter": {
    "hash": "f0fff94e886f4f6564bda822b020918aa4492cb341360e5b9ca0c10f6501bc9c"
   }
  }
 },
 "nbformat": 4,
 "nbformat_minor": 2
}
